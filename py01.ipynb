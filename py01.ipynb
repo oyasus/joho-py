{
  "nbformat": 4,
  "nbformat_minor": 0,
  "metadata": {
    "colab": {
      "name": "py01.ipynb",
      "provenance": [],
      "authorship_tag": "ABX9TyNdQB91VmZDV/WkfYXWE/uV",
      "include_colab_link": true
    },
    "kernelspec": {
      "name": "python3",
      "display_name": "Python 3"
    },
    "language_info": {
      "name": "python"
    }
  },
  "cells": [
    {
      "cell_type": "markdown",
      "metadata": {
        "id": "view-in-github",
        "colab_type": "text"
      },
      "source": [
        "<a href=\"https://colab.research.google.com/github/oyasus/joho-py/blob/main/py01.ipynb\" target=\"_parent\"><img src=\"https://colab.research.google.com/assets/colab-badge.svg\" alt=\"Open In Colab\"/></a>"
      ]
    },
    {
      "cell_type": "code",
      "execution_count": 1,
      "metadata": {
        "colab": {
          "base_uri": "https://localhost:8080/"
        },
        "id": "VgJD9aZtazYy",
        "outputId": "69c72121-77e5-4806-d09e-2cb959fd3b93"
      },
      "outputs": [
        {
          "output_type": "stream",
          "name": "stdout",
          "text": [
            "hello! Python\n"
          ]
        }
      ],
      "source": [
        "print(\"hello! Python\")"
      ]
    }
  ]
}